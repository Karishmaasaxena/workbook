{
 "cells": [
  {
   "cell_type": "markdown",
   "metadata": {},
   "source": [
    "what is the importance of function in python?\n",
    "\n",
    "As Python is a procedural,functional and Object-oriented programming language so functions are \"first class citizens\" which means flexibility,similarity to variables . \n",
    "python function is a block of related statements designed to perform  a computational ,logical or evaluative tasks. \n",
    "The idea is to put some commonly or repeatedly done tasks together and make a function so that instead of writing the same code again n again fo different inputs, we can do the function calls to reuse code contained in it over n over again."
   ]
  },
  {
   "cell_type": "code",
   "execution_count": null,
   "metadata": {},
   "outputs": [],
   "source": [
    "# function to greet students\n",
    "def greet():\n",
    "    print(\"hello students\")\n",
    "greet()    "
   ]
  },
  {
   "cell_type": "markdown",
   "metadata": {},
   "source": [
    "# difference betwen print and return in python\n",
    "\n",
    "RETURN STATEMENT = Python return statement is used to exit the function and return a value. The return keyword is used to specify a value that a function should return when a function is called.\n",
    "It performs some calculations or operations and then returns the value or a set of values to the calling code.\n",
    "\n",
    "PRINT STATEMENT = The print statement is a built-in function in Python that is used to display output to the console or terminal."
   ]
  },
  {
   "cell_type": "markdown",
   "metadata": {},
   "source": [
    "# what are *args and **kargs?\n",
    "\n",
    "*args (Non-Keyword Arguments)\n",
    "**kwargs (Keyword Arguments)\n",
    "\n",
    "*args = used to pass a variable number of arguments to a function. it is used to pass a non keyworded, variable-length argument list.\n",
    "\n",
    "SYNTAX: def fun(*args):\n",
    "            for i in args:\n",
    "                print(i)\n",
    "        fun(\"hehe\",1,\"#\",\"DataScience\") \n",
    "\n",
    "        OUTPUT: hehe\n",
    "                1\n",
    "                #\n",
    "                DataScience \n",
    "\n",
    "**kwargs =  used to pass a keyworded, variable-length argument list.  \n",
    " the double star allows us to pass through keyword arguments (and any number of them).\n",
    "\n",
    " SYNTAX:    def myFun(**kwargs):\n",
    "                for key, value in kwargs.items():\n",
    "                     print(\"%s = %s\" % (key, value))\n",
    "                "
   ]
  },
  {
   "cell_type": "code",
   "execution_count": 20,
   "metadata": {},
   "outputs": [
    {
     "name": "stdout",
     "output_type": "stream",
     "text": [
      "first = data\n",
      "mid = science\n",
      "last = course\n"
     ]
    }
   ],
   "source": [
    "def myFun(**kwargs):\n",
    "    for key, value in kwargs.items():\n",
    "        print(\"%s = %s\" % (key, value))\n",
    "\n",
    "\n",
    "# Driver code\n",
    "myFun(first='data', mid='science', last='course')\n"
   ]
  },
  {
   "cell_type": "markdown",
   "metadata": {},
   "source": [
    "# iterator functions\n",
    "\n",
    "An iterator is an object,which is used to iterate over an iterable object using the _next_() method.\n",
    "Iterators have the _next_() method,which returns the next item of the object.\n",
    "An iterator can be created from an iterable by using the function iter()."
   ]
  },
  {
   "cell_type": "code",
   "execution_count": 21,
   "metadata": {},
   "outputs": [
    {
     "name": "stdout",
     "output_type": "stream",
     "text": [
      "<list_iterator object at 0x00000268DC064D90>\n",
      "Berlin\n",
      "Vienna\n",
      "Zurich\n"
     ]
    }
   ],
   "source": [
    "cities = [\"Berlin\", \"Vienna\", \"Zurich\"]\n",
    " \n",
    "# initialize the object\n",
    "iterator_obj = iter(cities)\n",
    "\n",
    "print(iter(cities))\n",
    " \n",
    "print(next(iterator_obj))\n",
    "print(next(iterator_obj))\n",
    "print(next(iterator_obj))"
   ]
  },
  {
   "cell_type": "code",
   "execution_count": null,
   "metadata": {},
   "outputs": [],
   "source": [
    "# code that generates the square of numbers from 1 to n using generators\n",
    "def sq_number(n):\n",
    "    for i in range(1,n+1):\n",
    "        yield(i**2)\n",
    "        \n",
    "sq_gen=sq_number(5)        \n",
    "   \n",
    "for square in sq_gen:\n",
    "    print(square)    \n",
    "    "
   ]
  },
  {
   "cell_type": "code",
   "execution_count": 24,
   "metadata": {},
   "outputs": [
    {
     "name": "stdout",
     "output_type": "stream",
     "text": [
      "1\n",
      "2\n",
      "3\n",
      "4\n",
      "5\n",
      "6\n",
      "7\n",
      "8\n",
      "9\n",
      "11\n"
     ]
    }
   ],
   "source": [
    "# code that generates palindromic numbers up to n using generetor.\n",
    "def palindrome(n):\n",
    "   return str(n)==str(n)[::-1]\n",
    "def generate_palindrome(num):\n",
    "    for i in range(1,num+1):\n",
    "        if palindrome(i):\n",
    "            yield i\n",
    "\n",
    "palindrome_generate=generate_palindrome(13)\n",
    "for k in palindrome_generate:\n",
    "    print(k)            "
   ]
  },
  {
   "cell_type": "code",
   "execution_count": 25,
   "metadata": {},
   "outputs": [
    {
     "name": "stdout",
     "output_type": "stream",
     "text": [
      "1\n",
      "2\n",
      "3\n",
      "4\n",
      "5\n",
      "6\n",
      "7\n",
      "8\n",
      "9\n",
      "11\n",
      "22\n",
      "33\n",
      "44\n",
      "55\n",
      "66\n",
      "77\n",
      "88\n",
      "99\n"
     ]
    }
   ],
   "source": [
    "def generate_palindrome(num):\n",
    "    for i in range(1,num+1):\n",
    "        if  str(i)==str(i)[::-1]:\n",
    "            yield i\n",
    "\n",
    "palindrome_generate=generate_palindrome(100)\n",
    "for k in palindrome_generate:\n",
    "    print(k)              "
   ]
  },
  {
   "cell_type": "code",
   "execution_count": null,
   "metadata": {},
   "outputs": [],
   "source": [
    "# code that generates even numbers from 2 to n using generators\n",
    "def even(n):\n",
    "    for i in range(2,n+1):\n",
    "        if i%2==0:\n",
    "            yield i\n",
    "\n",
    "num_list=even(29)\n",
    "for nums in num_list:\n",
    "    print(nums)            "
   ]
  },
  {
   "cell_type": "code",
   "execution_count": null,
   "metadata": {},
   "outputs": [],
   "source": [
    "# code that generates power of two up to n using a generator\n",
    "\n",
    "def power_of_two(n):\n",
    "    for i in range(n+1):\n",
    "        yield 2**i\n",
    "        \n",
    "numbers=power_of_two(7)\n",
    "for nums in numbers:\n",
    "    print(nums)        "
   ]
  },
  {
   "cell_type": "code",
   "execution_count": null,
   "metadata": {},
   "outputs": [],
   "source": [
    "# code that generates prime numbers up to n using a generator.\n",
    "def is_prime(num):\n",
    "    for i in range(2,num+1):\n",
    "        if num%i==0:\n",
    "            return False\n",
    "        else:\n",
    "            return True\n",
    "  \n",
    "def generate_prime(n):\n",
    "    for i in range(2,n+1):\n",
    "        if is_prime(i):\n",
    "            yield i\n",
    "            \n",
    "prime_numbers=generate_prime(20)\n",
    "\n",
    "for num in prime_numbers:\n",
    "    print(num)            "
   ]
  },
  {
   "cell_type": "code",
   "execution_count": null,
   "metadata": {},
   "outputs": [],
   "source": [
    "# code that uses a lambda function to calculate the sum of two numbers.\n",
    "sum=lambda x,y:x+y\n",
    "sum(3,7)"
   ]
  },
  {
   "cell_type": "code",
   "execution_count": null,
   "metadata": {},
   "outputs": [],
   "source": [
    "# code that uses a lambda function to calculate the square of a given number.\n",
    "square=lambda x:x**2\n",
    "square(int(input(\"enter the number: \")))"
   ]
  },
  {
   "cell_type": "code",
   "execution_count": null,
   "metadata": {},
   "outputs": [],
   "source": [
    "# code that uses a lambda function to check whether a given number is evan or odd.\n",
    "check_odd_even=lambda x:\"even\"if x%2==0 else \"odd\"\n",
    "print(check_odd_even(5))\n",
    "print(check_odd_even(10))"
   ]
  },
  {
   "cell_type": "code",
   "execution_count": null,
   "metadata": {},
   "outputs": [],
   "source": [
    "# code that uses a lambda function to concatenate two strings.\n",
    "concatenate=lambda x,y:x+y\n",
    "concatenate(\"Data\",\"Science\")"
   ]
  },
  {
   "cell_type": "code",
   "execution_count": null,
   "metadata": {},
   "outputs": [],
   "source": [
    "# code that uses a lambda function to find the maximum of three given numbers.\n",
    "max_of_two=lambda x,y:x if x>y else y\n",
    "max_of_three=lambda z,max_of_two:z if z>max_of_two else max_of_two\n",
    "\n",
    "print(max_of_three(max_of_two(13,9),4))\n"
   ]
  },
  {
   "cell_type": "code",
   "execution_count": null,
   "metadata": {},
   "outputs": [],
   "source": [
    "# code that generates the square of evdn numbers from a given list.\n",
    "numList=[1,2,3,4,5,6,7,8]\n",
    "l2=[]\n",
    "for i in numList:\n",
    "    if i%2==0:\n",
    "        l2.append(i**2)\n",
    "\n",
    "print(l2)        "
   ]
  },
  {
   "cell_type": "code",
   "execution_count": null,
   "metadata": {},
   "outputs": [],
   "source": [
    "# code that calculates the product of positive numbers from a given list.\n",
    "l = [1,-2,3,-5,6]\n",
    "p=1\n",
    "for num in l:\n",
    "    if num>=0:\n",
    "        p*=num\n",
    "print(p)                "
   ]
  },
  {
   "cell_type": "code",
   "execution_count": null,
   "metadata": {},
   "outputs": [],
   "source": [
    "# code that doubles the values of odd numbers from a given list.\n",
    "numList=[1,2,3,4,5,6,7,8]\n",
    "def doub_odd(list):\n",
    "    oddList=[]\n",
    "    for i in list:\n",
    "        if i%2!=0:\n",
    "            oddList.append(i*2)\n",
    "    return oddList\n",
    "\n",
    "print(doub_odd([1,2,3,4,5,6,7,8]))"
   ]
  },
  {
   "cell_type": "code",
   "execution_count": null,
   "metadata": {},
   "outputs": [],
   "source": [
    "# code that calculates the sum of cubes of numbers from given list.\n",
    "numList=[1,2,3,4,5,6,7,8]\n",
    "sum_of_cube=0\n",
    "for i in numList:\n",
    "    sum_of_cube+=i**3\n",
    "print(sum_of_cube)    "
   ]
  },
  {
   "cell_type": "code",
   "execution_count": 3,
   "metadata": {},
   "outputs": [
    {
     "ename": "TypeError",
     "evalue": "unsupported operand type(s) for /: 'int' and 'range'",
     "output_type": "error",
     "traceback": [
      "\u001b[1;31m---------------------------------------------------------------------------\u001b[0m",
      "\u001b[1;31mTypeError\u001b[0m                                 Traceback (most recent call last)",
      "Cell \u001b[1;32mIn[3], line 8\u001b[0m\n\u001b[0;32m      6\u001b[0m             lis\u001b[38;5;241m.\u001b[39mappend(i)\n\u001b[0;32m      7\u001b[0m     \u001b[38;5;28;01mreturn\u001b[39;00m lis\n\u001b[1;32m----> 8\u001b[0m \u001b[43mfilter_prime\u001b[49m\u001b[43m(\u001b[49m\u001b[43m[\u001b[49m\u001b[38;5;241;43m1\u001b[39;49m\u001b[43m,\u001b[49m\u001b[38;5;241;43m2\u001b[39;49m\u001b[43m,\u001b[49m\u001b[38;5;241;43m3\u001b[39;49m\u001b[43m,\u001b[49m\u001b[38;5;241;43m4\u001b[39;49m\u001b[43m,\u001b[49m\u001b[38;5;241;43m5\u001b[39;49m\u001b[43m,\u001b[49m\u001b[38;5;241;43m6\u001b[39;49m\u001b[43m]\u001b[49m\u001b[43m)\u001b[49m        \n",
      "Cell \u001b[1;32mIn[3], line 5\u001b[0m, in \u001b[0;36mfilter_prime\u001b[1;34m(list)\u001b[0m\n\u001b[0;32m      3\u001b[0m lis\u001b[38;5;241m=\u001b[39m[]\n\u001b[0;32m      4\u001b[0m \u001b[38;5;28;01mfor\u001b[39;00m i \u001b[38;5;129;01min\u001b[39;00m \u001b[38;5;28mlist\u001b[39m:\n\u001b[1;32m----> 5\u001b[0m     \u001b[38;5;28;01mif\u001b[39;00m \u001b[43mi\u001b[49m\u001b[38;5;241;43m/\u001b[39;49m\u001b[38;5;28;43mrange\u001b[39;49m\u001b[43m(\u001b[49m\u001b[38;5;241;43m1\u001b[39;49m\u001b[43m,\u001b[49m\u001b[43mi\u001b[49m\u001b[38;5;241;43m+\u001b[39;49m\u001b[38;5;241;43m1\u001b[39;49m\u001b[43m)\u001b[49m:\n\u001b[0;32m      6\u001b[0m         lis\u001b[38;5;241m.\u001b[39mappend(i)\n\u001b[0;32m      7\u001b[0m \u001b[38;5;28;01mreturn\u001b[39;00m lis\n",
      "\u001b[1;31mTypeError\u001b[0m: unsupported operand type(s) for /: 'int' and 'range'"
     ]
    }
   ],
   "source": [
    "# code that filters out prime numbers from a given list.\n",
    "def filter_prime(list):\n",
    "    lis=[]\n",
    "    for i in list:\n",
    "        if i/range(1,i+1):\n",
    "            lis.append(i)\n",
    "    return lis\n",
    "\n",
    "filter_prime([1,2,3,4,5,6])        "
   ]
  },
  {
   "cell_type": "markdown",
   "metadata": {},
   "source": [
    "# what is encapsulation in oop\n"
   ]
  },
  {
   "cell_type": "code",
   "execution_count": null,
   "metadata": {},
   "outputs": [],
   "source": [
    "# define a parent class Animal with amethod name make_sound that prints \"generic animal sound\".create a chile class Dog inheriting from animal with Animal with a method name make_sound that prints\"wool\".\n",
    "class Animal:\n",
    "    def make_sound(self):\n",
    "        print(\"Generic animal sound\")\n",
    "class Dog(Animal):\n",
    "    def make_sound(self):\n",
    "        print(\"wool\")\n",
    "        \n",
    "dog=Dog()\n",
    "dog.make_sound()        "
   ]
  },
  {
   "cell_type": "code",
   "execution_count": null,
   "metadata": {},
   "outputs": [],
   "source": [
    "# method move in Animal class that prints\"Animal moves\".override the move method in Dog clas to print \"dog runs.\"\n",
    "class Animal:\n",
    "    def move(self):\n",
    "        print(\"Animal moves\")\n",
    "class Dog(Animal):\n",
    "    def move(self):\n",
    "        print(\"Dog runs\")\n",
    "        \n",
    "dog=Dog()\n",
    "dog.move()        \n",
    "animal=Animal()\n",
    "animal.move()            "
   ]
  },
  {
   "cell_type": "code",
   "execution_count": null,
   "metadata": {},
   "outputs": [],
   "source": [
    "class Mammal:\n",
    "    def reproduce(self):\n",
    "        print(\"Giving birth to live young\")\n",
    "\n",
    "class Dog:\n",
    "    def birth(self):\n",
    "        print(\"dog is a mammal\")\n",
    "        \n",
    "class DogMammal(Mammal,Dog):\n",
    "    def difference(self):\n",
    "        print(\"having tail and 4 legs\")\n",
    "\n",
    "obj=DogMammal()\n",
    "obj.reproduce()\n",
    "obj.birth()\n",
    "obj.difference()                        \n",
    "        "
   ]
  },
  {
   "cell_type": "code",
   "execution_count": null,
   "metadata": {},
   "outputs": [],
   "source": [
    "# class germenshepherd \n",
    "class Dog:\n",
    "    def Make_sound(self):\n",
    "        print(\"Bark\")\n",
    "class Germenshepherd(Dog):\n",
    "        def Make_sound(self):   #overriding the parent class method\n",
    "            super().Make_sound()\n",
    "            print(\"germenshepherd also barks\")\n",
    "\n",
    "a=Germenshepherd()\n",
    "a.Make_sound()            "
   ]
  },
  {
   "cell_type": "code",
   "execution_count": 5,
   "metadata": {},
   "outputs": [],
   "source": [
    "#define constructor in both the Animal and Dog classes with different initialization parameters.\n",
    "class Animal:\n",
    "    def __init__(self,eat):\n",
    "        self.eat=eat\n",
    "    \n",
    "class Dog:\n",
    "    def __init__(self,type,sound):\n",
    "        self.type=type \n",
    "        self.sound=sound\n",
    "             \n",
    "\n",
    "a=Animal(\"All type\")\n",
    "b=Dog(\"omnivorous\",\"bark\")"
   ]
  },
  {
   "cell_type": "code",
   "execution_count": 6,
   "metadata": {},
   "outputs": [
    {
     "data": {
      "text/plain": [
       "'All type'"
      ]
     },
     "execution_count": 6,
     "metadata": {},
     "output_type": "execute_result"
    }
   ],
   "source": [
    "a.eat"
   ]
  },
  {
   "cell_type": "code",
   "execution_count": 15,
   "metadata": {},
   "outputs": [
    {
     "data": {
      "text/plain": [
       "'bark'"
      ]
     },
     "execution_count": 15,
     "metadata": {},
     "output_type": "execute_result"
    }
   ],
   "source": [
    "b.sound"
   ]
  },
  {
   "cell_type": "code",
   "execution_count": 16,
   "metadata": {},
   "outputs": [
    {
     "data": {
      "text/plain": [
       "'omnivorous'"
      ]
     },
     "execution_count": 16,
     "metadata": {},
     "output_type": "execute_result"
    }
   ],
   "source": [
    "b.type"
   ]
  },
  {
   "cell_type": "markdown",
   "metadata": {},
   "source": [
    "what is Data Abstraction in python? How is it implemented?\n",
    "\n",
    "-> Data abstraction in Python is a programming concept that hides complex implementation details while exposing only essential information and functionalities to users. In Python, we can achieve data abstraction by using abstract classes and abstract classes can be created using abc (abstract base class) module and abstractmethod of abc module."
   ]
  },
  {
   "cell_type": "code",
   "execution_count": 1,
   "metadata": {},
   "outputs": [
    {
     "ename": "TypeError",
     "evalue": "Can't instantiate abstract class Hatchback without an implementation for abstract method 'print_details'",
     "output_type": "error",
     "traceback": [
      "\u001b[1;31m---------------------------------------------------------------------------\u001b[0m",
      "\u001b[1;31mTypeError\u001b[0m                                 Traceback (most recent call last)",
      "Cell \u001b[1;32mIn[1], line 23\u001b[0m\n\u001b[0;32m     20\u001b[0m     \u001b[38;5;28mprint\u001b[39m(\u001b[38;5;124m\"\u001b[39m\u001b[38;5;124mModel:\u001b[39m\u001b[38;5;124m\"\u001b[39m, \u001b[38;5;28mself\u001b[39m\u001b[38;5;241m.\u001b[39mmodel); \n\u001b[0;32m     21\u001b[0m     \u001b[38;5;28mprint\u001b[39m(\u001b[38;5;124m\"\u001b[39m\u001b[38;5;124mYear:\u001b[39m\u001b[38;5;124m\"\u001b[39m, \u001b[38;5;28mself\u001b[39m\u001b[38;5;241m.\u001b[39myear); \n\u001b[1;32m---> 23\u001b[0m car1 \u001b[38;5;241m=\u001b[39m \u001b[43mHatchback\u001b[49m\u001b[43m(\u001b[49m\u001b[38;5;124;43m\"\u001b[39;49m\u001b[38;5;124;43mMaruti\u001b[39;49m\u001b[38;5;124;43m\"\u001b[39;49m\u001b[43m,\u001b[49m\u001b[43m \u001b[49m\u001b[38;5;124;43m\"\u001b[39;49m\u001b[38;5;124;43mAlto\u001b[39;49m\u001b[38;5;124;43m\"\u001b[39;49m\u001b[43m,\u001b[49m\u001b[43m \u001b[49m\u001b[38;5;124;43m\"\u001b[39;49m\u001b[38;5;124;43m2022\u001b[39;49m\u001b[38;5;124;43m\"\u001b[39;49m\u001b[43m)\u001b[49m; \n\u001b[0;32m     25\u001b[0m car1\u001b[38;5;241m.\u001b[39mprintDetails()     \n",
      "\u001b[1;31mTypeError\u001b[0m: Can't instantiate abstract class Hatchback without an implementation for abstract method 'print_details'"
     ]
    }
   ],
   "source": [
    "# implementation of Abstraction\n",
    "\n",
    "from abc import ABC,abstractmethod\n",
    "\n",
    "class Car(ABC):\n",
    "    \n",
    "    def __init__(self,brand,model,year):\n",
    "        self.brand=brand\n",
    "        self.model=model\n",
    "        self.year=year\n",
    "        \n",
    "    @abstractmethod\n",
    "    def print_details(self):\n",
    "        pass\n",
    "    \n",
    "class Hatchback(Car): \n",
    "      \n",
    "  def printDetails(self):          # Abstract method of base class force its child class to write the implementation of the all abstract methods defined in base class. If we do not implement the abstract methods of base class in the child class then our code will give error.\n",
    "    print(\"Brand:\", self.brand); \n",
    "    print(\"Model:\", self.model); \n",
    "    print(\"Year:\", self.year); \n",
    "    \n",
    "car1 = Hatchback(\"Maruti\", \"Alto\", \"2022\"); \n",
    "  \n",
    "car1.printDetails()     \n",
    "        "
   ]
  },
  {
   "cell_type": "code",
   "execution_count": 23,
   "metadata": {},
   "outputs": [
    {
     "ename": "TypeError",
     "evalue": "Can't instantiate abstract class Hatchback without an implementation for abstract method 'print_details'",
     "output_type": "error",
     "traceback": [
      "\u001b[1;31m---------------------------------------------------------------------------\u001b[0m",
      "\u001b[1;31mTypeError\u001b[0m                                 Traceback (most recent call last)",
      "Cell \u001b[1;32mIn[23], line 21\u001b[0m\n\u001b[0;32m     18\u001b[0m     \u001b[38;5;28mprint\u001b[39m(\u001b[38;5;124m\"\u001b[39m\u001b[38;5;124mModel:\u001b[39m\u001b[38;5;124m\"\u001b[39m, \u001b[38;5;28mself\u001b[39m\u001b[38;5;241m.\u001b[39mmodel); \n\u001b[0;32m     19\u001b[0m     \u001b[38;5;28mprint\u001b[39m(\u001b[38;5;124m\"\u001b[39m\u001b[38;5;124mYear:\u001b[39m\u001b[38;5;124m\"\u001b[39m, \u001b[38;5;28mself\u001b[39m\u001b[38;5;241m.\u001b[39myear); \n\u001b[1;32m---> 21\u001b[0m car1 \u001b[38;5;241m=\u001b[39m \u001b[43mHatchback\u001b[49m\u001b[43m(\u001b[49m\u001b[38;5;124;43m\"\u001b[39;49m\u001b[38;5;124;43mMaruti\u001b[39;49m\u001b[38;5;124;43m\"\u001b[39;49m\u001b[43m,\u001b[49m\u001b[43m \u001b[49m\u001b[38;5;124;43m\"\u001b[39;49m\u001b[38;5;124;43mAlto\u001b[39;49m\u001b[38;5;124;43m\"\u001b[39;49m\u001b[43m,\u001b[49m\u001b[43m \u001b[49m\u001b[38;5;124;43m\"\u001b[39;49m\u001b[38;5;124;43m2022\u001b[39;49m\u001b[38;5;124;43m\"\u001b[39;49m\u001b[43m)\u001b[49m; \n\u001b[0;32m     23\u001b[0m car1\u001b[38;5;241m.\u001b[39mprint_details() \n",
      "\u001b[1;31mTypeError\u001b[0m: Can't instantiate abstract class Hatchback without an implementation for abstract method 'print_details'"
     ]
    }
   ],
   "source": [
    "from abc import ABC,abstractmethod\n",
    "\n",
    "class Car(ABC):\n",
    "    \n",
    "    def __init__(self,brand,model,year):\n",
    "        self.brand=brand\n",
    "        self.model=model\n",
    "        self.year=year\n",
    "        \n",
    "    @abstractmethod\n",
    "    def print_details(self):   # abstract method\n",
    "      pass\n",
    "    \n",
    "class Hatchback(Car): \n",
    "      \n",
    "  def printDetails(self):      \n",
    "    print(\"Brand:\", self.brand); \n",
    "    print(\"Model:\", self.model); \n",
    "    print(\"Year:\", self.year); \n",
    "    \n",
    "car1 = Hatchback(\"Maruti\", \"Alto\", \"2022\"); \n",
    "  \n",
    "car1.print_details() "
   ]
  },
  {
   "cell_type": "code",
   "execution_count": 19,
   "metadata": {},
   "outputs": [
    {
     "name": "stdout",
     "output_type": "stream",
     "text": [
      "Brand: Maruti\n",
      "Model: Alto\n",
      "Year: 2022\n"
     ]
    }
   ],
   "source": [
    "from abc import ABC, abstractmethod \n",
    "  \n",
    "# Create Abstract base class \n",
    "class Car(ABC): \n",
    "  def __init__(self, brand, model, year): \n",
    "    self.brand = brand \n",
    "    self.model = model \n",
    "    self.year = year \n",
    "      \n",
    "  # Create abstract method       \n",
    "  @abstractmethod\n",
    "  def printDetails(self): \n",
    "    pass\n",
    "      \n",
    "# Create a child class \n",
    "class Hatchback(Car): \n",
    "    \n",
    "  def printDetails(self): \n",
    "    print(\"Brand:\", self.brand); \n",
    "    print(\"Model:\", self.model); \n",
    "    print(\"Year:\", self.year); \n",
    "      \n",
    "car1 = Hatchback(\"Maruti\", \"Alto\", \"2022\"); \n",
    "  \n",
    "car1.printDetails() \n",
    "\n",
    "      "
   ]
  },
  {
   "cell_type": "markdown",
   "metadata": {},
   "source": [
    "Explain the importance of Abstraction in OOPS.\n",
    "\n",
    "-> Data abstraction in oops is the process of simplifying complex data structures by providing a high-level view or interface to manipulate the data, while hiding the underlying implementation details. It involves defining abstract data types (ADTs) that encapsulate data and the operations that can be performed on that data.\n",
    "\n",
    "Data abstraction allows programmers to work with data at a conceptual level, without needing to understand the intricacies of how the data is stored and processed internally. It promotes modularity, reusability, and the separation of concerns in software design.\n",
    "\n",
    "Abstraction is necessary because it simplifies complex tasks.\n",
    "\n",
    "Imagine baking a cake: you follow a recipe without needing to be a food scientist. Similarly, abstraction allows programmers to use pre-built objects without diving into the technical details. It makes coding easier, faster, and less prone to errors, like following a recipe for a delicious cake.\n",
    "\n",
    "Simplifies Complexity: Abstraction makes complex things simple. It's like using a smartphone without knowing how it's built; you tap icons to call, text, or play games. You don't need to be an engineer.\n",
    "\n",
    "Saves Time: Abstraction saves time. Think of it as using a car instead of building one from scratch. You just drive, no need to be a mechanic.\n",
    "\n",
    "Reduces Errors: Abstraction reduces mistakes. Just like following a recipe for baking, you follow rules without being a chef. In coding, it prevents errors.\n",
    "\n",
    "Focuses on What Matters: It helps focus on what's important. Imagine writing a story—you care about characters and plot, not the paper's chemical composition. Abstraction lets programmers focus on the main task, not tiny details.\n",
    "\n",
    "Encourages Collaboration: Abstraction enables teamwork. When building a house, you don't need to know plumbing to work with plumbers. In software, abstraction lets different programmers work on separate parts without knowing everything about each other's code.\n",
    "\n",
    "Makes Code Reusable: Abstraction makes code reusable. Just like you can use the same recipe for baking, programmers can reuse code for similar tasks. Saves time and effort.\n",
    "\n",
    "Manages Complexity: In a big project, it's like organizing a library. You don't need to read every book to find what you want. Abstraction organizes code, so you find what you need quickly."
   ]
  },
  {
   "cell_type": "markdown",
   "metadata": {},
   "source": [
    "# what is the difference between abstract method and normal methods?\n",
    "\n",
    "For abstract methods, you have to provide an implementation in by creating a derived class.\n",
    "For non-abstract methods, there is no need to provide an implementation in derived class."
   ]
  },
  {
   "cell_type": "code",
   "execution_count": 2,
   "metadata": {},
   "outputs": [
    {
     "ename": "ModuleNotFoundError",
     "evalue": "No module named 'zope'",
     "output_type": "error",
     "traceback": [
      "\u001b[1;31m---------------------------------------------------------------------------\u001b[0m",
      "\u001b[1;31mModuleNotFoundError\u001b[0m                       Traceback (most recent call last)",
      "Cell \u001b[1;32mIn[2], line 3\u001b[0m\n\u001b[0;32m      1\u001b[0m \u001b[38;5;66;03m# How can u achieve abstraction in python using interfaces??\u001b[39;00m\n\u001b[1;32m----> 3\u001b[0m \u001b[38;5;28;01mimport\u001b[39;00m \u001b[38;5;21;01mzope\u001b[39;00m\n\u001b[0;32m      6\u001b[0m \u001b[38;5;28;01mclass\u001b[39;00m \u001b[38;5;21;01mMyInterface\u001b[39;00m(zope\u001b[38;5;241m.\u001b[39minterface\u001b[38;5;241m.\u001b[39mInterface): \n\u001b[0;32m      7\u001b[0m \tx \u001b[38;5;241m=\u001b[39m zope\u001b[38;5;241m.\u001b[39minterface\u001b[38;5;241m.\u001b[39mAttribute(\u001b[38;5;124m\"\u001b[39m\u001b[38;5;124mfoo\u001b[39m\u001b[38;5;124m\"\u001b[39m) \n",
      "\u001b[1;31mModuleNotFoundError\u001b[0m: No module named 'zope'"
     ]
    }
   ],
   "source": [
    "# How can u achieve abstraction in python using interfaces??\n",
    "\n",
    "import zope.interface \n",
    "\n",
    "\n",
    "class MyInterface(zope.interface.Interface): \n",
    "\tx = zope.interface.Attribute(\"foo\") \n",
    "\tdef method1(self, x): \n",
    "\t\tpass\n",
    "\tdef method2(self): \n",
    "\t\tpass\n",
    "\n",
    "@zope.interface.implementer(MyInterface) \n",
    "class MyClass: \n",
    "\tdef method1(self, x): \n",
    "\t\treturn x**2\n",
    "\tdef method2(self): \n",
    "\t\treturn \"foo\"\n"
   ]
  },
  {
   "cell_type": "code",
   "execution_count": 4,
   "metadata": {},
   "outputs": [
    {
     "name": "stdout",
     "output_type": "stream",
     "text": [
      "Details: Audi R8 Price: 9000000\n",
      "Car max speed is 260\n",
      "Car has Automatic Transmission\n",
      "Details: Nissan Magnite Price: 550000\n",
      "Vehicle max speed is 160\n",
      "Vehicle has 6 shifter gearbox\n"
     ]
    }
   ],
   "source": [
    "# How does python achieve polymorphism through method overriding?\n",
    "\n",
    "\n",
    "class Vehicle:\n",
    "    def __init__(self, brand, model, price):\n",
    "        self.brand = brand\n",
    "        self.model = model\n",
    "        self.price = price\n",
    "\n",
    "    def show(self):\n",
    "        print('Details:', self.brand, self.model, 'Price:', self.price)\n",
    "\n",
    "    def max_speed(self):\n",
    "        print('Vehicle max speed is 160')\n",
    "\n",
    "    def gear_system(self):\n",
    "        print('Vehicle has 6 shifter gearbox')\n",
    "\n",
    "# inherit from vehicle class\n",
    "class Car(Vehicle):\n",
    "    def max_speed(self):\n",
    "        print('Car max speed is 260')\n",
    "\n",
    "    def gear_system(self):\n",
    "        print('Car has Automatic Transmission')\n",
    "\n",
    "# Car Object\n",
    "car = Car('Audi', 'R8', 9000000)\n",
    "car.show()\n",
    "# call methods from Car class\n",
    "car.max_speed()\n",
    "car.gear_system()\n",
    "\n",
    "# Vehicle Object\n",
    "vehicle = Vehicle('Nissan', 'Magnite', 550000)\n",
    "vehicle.show()\n",
    "# call method from a Vehicle class\n",
    "vehicle.max_speed()\n",
    "vehicle.gear_system()"
   ]
  },
  {
   "cell_type": "code",
   "execution_count": 12,
   "metadata": {},
   "outputs": [
    {
     "name": "stdout",
     "output_type": "stream",
     "text": [
      "Square\n",
      "Squares have each angle equal to 90 degrees.\n",
      "('area of square', 16)\n",
      "2D \n",
      "I am a two-dimensional shape.\n"
     ]
    }
   ],
   "source": [
    "# Define a base class with a method and a subclass that overrides the method\n",
    "from math import pi\n",
    "\n",
    "\n",
    "class Shape:\n",
    "    def __init__(self, name):\n",
    "        self.name = name\n",
    "\n",
    "    def area(self):\n",
    "        pass\n",
    "\n",
    "    def fact(self):\n",
    "        return \"I am a two-dimensional shape.\"\n",
    "\n",
    "    def __str__(self):\n",
    "        return self.name\n",
    "\n",
    "\n",
    "class Square(Shape):\n",
    "    def __init__(self, length):\n",
    "        super().__init__(\"Square\")\n",
    "        self.length = length\n",
    "\n",
    "    def area(self):\n",
    "        return'area of square', self.length**2\n",
    "\n",
    "    def fact(self):\n",
    "        return \"Squares have each angle equal to 90 degrees.\"\n",
    "\n",
    "\n",
    "a = Square(4)\n",
    "b=Shape(\"2D \")\n",
    "print(a)\n",
    "print(a.fact())\n",
    "print(a.area())\n",
    "print(b)\n",
    "print(b.fact())\n"
   ]
  },
  {
   "cell_type": "code",
   "execution_count": 14,
   "metadata": {},
   "outputs": [
    {
     "name": "stdout",
     "output_type": "stream",
     "text": [
      "Square\n",
      "Squares have each angle equal to 90 degrees.\n",
      "('area of square', 16)\n",
      "Circle\n",
      "I am a two-dimensional shape.\n"
     ]
    }
   ],
   "source": [
    "# define a base class and multiple subclasses with overridden methods\n",
    "from math import pi\n",
    "\n",
    "\n",
    "class Shape:\n",
    "    def __init__(self, name):\n",
    "        self.name = name\n",
    "\n",
    "    def area(self):\n",
    "        pass\n",
    "\n",
    "    def fact(self):\n",
    "        return \"I am a two-dimensional shape.\"\n",
    "\n",
    "    def __str__(self):\n",
    "        return self.name\n",
    "\n",
    "\n",
    "class Square(Shape):\n",
    "    def __init__(self, length):\n",
    "        super().__init__(\"Square\")\n",
    "        self.length = length\n",
    "\n",
    "    def area(self):\n",
    "        return'area of square', self.length**2\n",
    "\n",
    "    def fact(self):\n",
    "        return \"Squares have each angle equal to 90 degrees.\"\n",
    "\n",
    "class Circle(Shape):\n",
    "    def __init__(self, radius):\n",
    "        super().__init__(\"Circle\")\n",
    "        self.radius = radius\n",
    "\n",
    "    def area(self):\n",
    "        return'area of circle', pi*self.radius**2\n",
    "    \n",
    "a = Square(4)\n",
    "b=Circle(3)\n",
    "print(a)\n",
    "print(a.fact())\n",
    "print(a.area())\n",
    "print(b)\n",
    "print(b.fact())\n"
   ]
  },
  {
   "cell_type": "markdown",
   "metadata": {},
   "source": [
    "# How does polymorphism improves code readibility and reusability?\n",
    "\n",
    "-> Polymorphism enhances code readability by promoting code reuse and eliminating redundancy. With polymorphism, you can write generic code that operates on objects of different types without needing to know their specific implementations. This leads to shorter, more concise code that is easier to understand and maintain. Polymorphism also improves the readability of code by allowing for better organization and encapsulation of related behaviors.\n",
    "\n"
   ]
  },
  {
   "cell_type": "code",
   "execution_count": 17,
   "metadata": {},
   "outputs": [
    {
     "name": "stdout",
     "output_type": "stream",
     "text": [
      "21\n"
     ]
    }
   ],
   "source": [
    "# Python program to demonstrate \n",
    "# duck typing \n",
    "\n",
    "class Specialstring: \n",
    "\tdef __len__(self): \n",
    "\t\treturn 21\n",
    "\n",
    "# Driver's code \n",
    "if __name__ == \"__main__\": \n",
    "\n",
    "\tstring = Specialstring() \n",
    "\tprint(len(string)) \n"
   ]
  },
  {
   "cell_type": "code",
   "execution_count": 29,
   "metadata": {},
   "outputs": [
    {
     "name": "stdout",
     "output_type": "stream",
     "text": [
      "Flap Flap!\n",
      "Zoom Zoom!\n"
     ]
    },
    {
     "data": {
      "text/plain": [
       "'Flap Flap!'"
      ]
     },
     "execution_count": 29,
     "metadata": {},
     "output_type": "execute_result"
    }
   ],
   "source": [
    "# How does python supports polymorphism with duck typing?\n",
    "class Bird:\n",
    "    def fly(self):\n",
    "        return 'Flap Flap!'\n",
    "\n",
    "class Airplane:\n",
    "    def fly(self):\n",
    "        return 'Zoom Zoom!'\n",
    "\n",
    "def in_the_sky(flier):\n",
    "    print(flier.fly())\n",
    "\n",
    "pigeon = Bird()\n",
    "boeing = Airplane()\n",
    "in_the_sky(pigeon)\n",
    "in_the_sky(boeing)\n",
    "pigeon.fly()\n",
    "\n",
    "# Output:\n",
    "# 'Flap Flap!'\n",
    "# 'Zoom Zoom!'\n"
   ]
  },
  {
   "cell_type": "code",
   "execution_count": 42,
   "metadata": {},
   "outputs": [
    {
     "name": "stdout",
     "output_type": "stream",
     "text": [
      "5\n",
      "3\n"
     ]
    },
    {
     "ename": "AttributeError",
     "evalue": "'Rectangle' object has no attribute 'length'",
     "output_type": "error",
     "traceback": [
      "\u001b[1;31m---------------------------------------------------------------------------\u001b[0m",
      "\u001b[1;31mAttributeError\u001b[0m                            Traceback (most recent call last)",
      "Cell \u001b[1;32mIn[42], line 20\u001b[0m\n\u001b[0;32m     18\u001b[0m rect \u001b[38;5;241m=\u001b[39m Rectangle() \u001b[38;5;66;03m#object created \u001b[39;00m\n\u001b[0;32m     19\u001b[0m \u001b[38;5;66;03m#printing values of the private variable outside the class \u001b[39;00m\n\u001b[1;32m---> 20\u001b[0m \u001b[38;5;28mprint\u001b[39m(\u001b[43mrect\u001b[49m\u001b[38;5;241;43m.\u001b[39;49m\u001b[43mlength\u001b[49m)\n\u001b[0;32m     21\u001b[0m \u001b[38;5;28mprint\u001b[39m(rect\u001b[38;5;241m.\u001b[39mbreadth)\n",
      "\u001b[1;31mAttributeError\u001b[0m: 'Rectangle' object has no attribute 'length'"
     ]
    }
   ],
   "source": [
    "# how do yuo achieve encapsulation in Python?\n",
    "\n",
    "### encapsulation can only be achieved n python by using conventions rather than strict access modifiers like in languages such as Java or C++.\n",
    "\n",
    "# illustrating private members & private access modifier \n",
    "\n",
    "class Rectangle:\n",
    "  __length = 0 #private variable\n",
    "  __breadth = 0#private variable\n",
    "  def __init__(self): \n",
    "    #constructor\n",
    "    self.__length = 5\n",
    "    self.__breadth = 3\n",
    "    #printing values of the private variable within the class\n",
    "    print(self.__length)\n",
    "    print(self.__breadth)\n",
    " \n",
    "rect = Rectangle() #object created \n",
    "#printing values of the private variable outside the class \n",
    "print(rect.length)\n",
    "print(rect.breadth)\n"
   ]
  },
  {
   "cell_type": "code",
   "execution_count": 51,
   "metadata": {},
   "outputs": [
    {
     "name": "stdout",
     "output_type": "stream",
     "text": [
      "Jason\n",
      "35\n",
      "Developer\n"
     ]
    }
   ],
   "source": [
    "# illustrating protected members & protected access modifier \n",
    "class details:\n",
    "    _name=\"Jason\"\n",
    "    _age=35\n",
    "    _job=\"Developer\"\n",
    "class pro_mod(details):\n",
    "    def __init__(self):\n",
    "        print(self._name)\n",
    "        print(self._age)\n",
    "        print(self._job)\n",
    " \n",
    "# creating object of the class \n",
    "obj = pro_mod()\n"
   ]
  },
  {
   "cell_type": "code",
   "execution_count": 54,
   "metadata": {},
   "outputs": [
    {
     "name": "stdout",
     "output_type": "stream",
     "text": [
      "Name: Jason\n",
      "Age: 35\n",
      "job: Developer\n"
     ]
    }
   ],
   "source": [
    "class details:\n",
    "    _name=\"Jason\"\n",
    "    _age=35\n",
    "    _job=\"Developer\"\n",
    "class pro_mod(details):\n",
    "    def __init__(self):\n",
    "        self._name\n",
    "        self._age\n",
    "        self._job\n",
    " \n",
    "# creating object of the class \n",
    "obj = pro_mod()\n",
    "# direct access of protected member\n",
    "print(\"Name:\",obj._name)\n",
    "print(\"Age:\",obj._age)\n",
    "print(\"job:\",obj._job)\n"
   ]
  },
  {
   "cell_type": "markdown",
   "metadata": {},
   "source": [
    "# can encapsulation be bypassed in python?if so, explain using examples.\n",
    "-> In Python, encapsulation can be bypassed to some extent, although it’s not recommended.\n",
    "\n",
    "# Private Variables:\n",
    "Private variables are those that should not be accessed directly from outside the class.\n",
    "In Python, we indicate a variable as private by prefixing its name with an underscore (_). For example:\n",
    "\n",
    "\n",
    "# Protected Members:\n",
    "Protected members can be accessed within the class and its subclasses.\n",
    "Conventionally, we use a single underscore (_) to indicate protected members.\n",
    "Although you can access them outside the class, it’s not recommended:\n",
    "\n",
    "\n",
    "# Private Methods:\n",
    "Private methods are also indicated by a double underscore (__) prefix.\n",
    "However, they are not truly hidden; their names are just modified (name mangling)."
   ]
  },
  {
   "cell_type": "code",
   "execution_count": 55,
   "metadata": {},
   "outputs": [
    {
     "name": "stdout",
     "output_type": "stream",
     "text": [
      "42\n"
     ]
    }
   ],
   "source": [
    "class MyClass:\n",
    "    def __init__(self):\n",
    "        self._private_var = 42\n",
    "\n",
    "obj = MyClass()\n",
    "print(obj._private_var)  # Accessing private variable "
   ]
  },
  {
   "cell_type": "code",
   "execution_count": 56,
   "metadata": {},
   "outputs": [
    {
     "name": "stdout",
     "output_type": "stream",
     "text": [
      "Calling protected member of base class: 2\n",
      "Accessing protected member of obj1: 3\n"
     ]
    }
   ],
   "source": [
    "class Base:\n",
    "    def __init__(self):\n",
    "        self._protected_var = 2\n",
    "\n",
    "class Derived(Base):\n",
    "    def __init__(self):\n",
    "        Base.__init__(self)\n",
    "        print(\"Calling protected member of base class:\", self._protected_var)\n",
    "        self._protected_var = 3  # Modify the protected variable\n",
    "\n",
    "obj1 = Derived()\n",
    "print(\"Accessing protected member of obj1:\", obj1._protected_var)"
   ]
  },
  {
   "cell_type": "code",
   "execution_count": 57,
   "metadata": {},
   "outputs": [
    {
     "name": "stdout",
     "output_type": "stream",
     "text": [
      "Updating software...\n"
     ]
    }
   ],
   "source": [
    "class Car:\n",
    "    def __updateSoftware(self):\n",
    "        print(\"Updating software...\")\n",
    "\n",
    "redcar = Car()\n",
    "redcar._Car__updateSoftware()  # Accessing private method"
   ]
  },
  {
   "cell_type": "code",
   "execution_count": 70,
   "metadata": {},
   "outputs": [
    {
     "name": "stdout",
     "output_type": "stream",
     "text": [
      "Deposited amount:500 and Current balance:10500\n",
      " insufficient funds or enter the valid amount to withdraw \n",
      "Current balance:10500\n"
     ]
    }
   ],
   "source": [
    "# Implement a class BankAccount with a private balance attribute.\n",
    "#Include methods to deposite,withdraw, and check the balance.\n",
    "\n",
    "\n",
    "class BankAccount:\n",
    "    def __init__(self,initial_balance=0):\n",
    "        self._balance=initial_balance\n",
    "    def deposite(self,amount):\n",
    "        if amount>0:\n",
    "            self._balance+=amount\n",
    "            print(f\"Deposited amount:{amount} and Current balance:{self._balance}\")\n",
    "        else:  \n",
    "            print(\"please enter valid amount or real valued amount\")\n",
    "            \n",
    "    def withdraw(self,withdraw_amount):  \n",
    "        if 0 < withdraw_amount <= self._balance:\n",
    "            self._balance-=withdraw_amount\n",
    "            print(f\"withdrawl amount:{withdraw_amount} and current balance:{self._balance}\")\n",
    "        else:\n",
    "            print(\" insufficient funds or enter the valid amount to withdraw \")\n",
    "    \n",
    "    def check_balance(self):\n",
    "        \"\"\"Get the current account balance.\"\"\"\n",
    "        print(f\"Current balance:{self._balance}\")        \n",
    "        \n",
    "money=BankAccount(10000)   \n",
    "money.deposite(500)  \n",
    "money.withdraw(100000)  \n",
    "money.check_balance()     \n",
    "                "
   ]
  },
  {
   "cell_type": "code",
   "execution_count": null,
   "metadata": {},
   "outputs": [],
   "source": [
    "# develpo a person class with private attributes name and email,\n",
    "#and methods to set and get the email."
   ]
  }
 ],
 "metadata": {
  "kernelspec": {
   "display_name": "Python 3",
   "language": "python",
   "name": "python3"
  },
  "language_info": {
   "codemirror_mode": {
    "name": "ipython",
    "version": 3
   },
   "file_extension": ".py",
   "mimetype": "text/x-python",
   "name": "python",
   "nbconvert_exporter": "python",
   "pygments_lexer": "ipython3",
   "version": "3.12.2"
  }
 },
 "nbformat": 4,
 "nbformat_minor": 2
}
